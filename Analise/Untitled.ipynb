{
 "cells": [
  {
   "cell_type": "code",
   "execution_count": 9,
   "id": "ebe60fd8-5fb7-4481-a592-b69c28eeecc1",
   "metadata": {
    "tags": []
   },
   "outputs": [
    {
     "data": {
      "text/html": [
       "<div>\n",
       "<style scoped>\n",
       "    .dataframe tbody tr th:only-of-type {\n",
       "        vertical-align: middle;\n",
       "    }\n",
       "\n",
       "    .dataframe tbody tr th {\n",
       "        vertical-align: top;\n",
       "    }\n",
       "\n",
       "    .dataframe thead th {\n",
       "        text-align: right;\n",
       "    }\n",
       "</style>\n",
       "<table border=\"1\" class=\"dataframe\">\n",
       "  <thead>\n",
       "    <tr style=\"text-align: right;\">\n",
       "      <th></th>\n",
       "      <th>survived</th>\n",
       "      <th>pclass</th>\n",
       "      <th>sex</th>\n",
       "      <th>age</th>\n",
       "      <th>sibsp</th>\n",
       "      <th>parch</th>\n",
       "      <th>fare</th>\n",
       "      <th>embarked</th>\n",
       "      <th>class</th>\n",
       "      <th>who</th>\n",
       "      <th>adult_male</th>\n",
       "      <th>deck</th>\n",
       "      <th>embark_town</th>\n",
       "      <th>alive</th>\n",
       "      <th>alone</th>\n",
       "    </tr>\n",
       "  </thead>\n",
       "  <tbody>\n",
       "    <tr>\n",
       "      <th>0</th>\n",
       "      <td>0</td>\n",
       "      <td>3</td>\n",
       "      <td>male</td>\n",
       "      <td>22.0</td>\n",
       "      <td>1</td>\n",
       "      <td>0</td>\n",
       "      <td>7.2500</td>\n",
       "      <td>S</td>\n",
       "      <td>Third</td>\n",
       "      <td>man</td>\n",
       "      <td>True</td>\n",
       "      <td>NaN</td>\n",
       "      <td>Southampton</td>\n",
       "      <td>no</td>\n",
       "      <td>False</td>\n",
       "    </tr>\n",
       "    <tr>\n",
       "      <th>1</th>\n",
       "      <td>1</td>\n",
       "      <td>1</td>\n",
       "      <td>female</td>\n",
       "      <td>38.0</td>\n",
       "      <td>1</td>\n",
       "      <td>0</td>\n",
       "      <td>71.2833</td>\n",
       "      <td>C</td>\n",
       "      <td>First</td>\n",
       "      <td>woman</td>\n",
       "      <td>False</td>\n",
       "      <td>C</td>\n",
       "      <td>Cherbourg</td>\n",
       "      <td>yes</td>\n",
       "      <td>False</td>\n",
       "    </tr>\n",
       "    <tr>\n",
       "      <th>2</th>\n",
       "      <td>1</td>\n",
       "      <td>3</td>\n",
       "      <td>female</td>\n",
       "      <td>26.0</td>\n",
       "      <td>0</td>\n",
       "      <td>0</td>\n",
       "      <td>7.9250</td>\n",
       "      <td>S</td>\n",
       "      <td>Third</td>\n",
       "      <td>woman</td>\n",
       "      <td>False</td>\n",
       "      <td>NaN</td>\n",
       "      <td>Southampton</td>\n",
       "      <td>yes</td>\n",
       "      <td>True</td>\n",
       "    </tr>\n",
       "    <tr>\n",
       "      <th>3</th>\n",
       "      <td>1</td>\n",
       "      <td>1</td>\n",
       "      <td>female</td>\n",
       "      <td>35.0</td>\n",
       "      <td>1</td>\n",
       "      <td>0</td>\n",
       "      <td>53.1000</td>\n",
       "      <td>S</td>\n",
       "      <td>First</td>\n",
       "      <td>woman</td>\n",
       "      <td>False</td>\n",
       "      <td>C</td>\n",
       "      <td>Southampton</td>\n",
       "      <td>yes</td>\n",
       "      <td>False</td>\n",
       "    </tr>\n",
       "    <tr>\n",
       "      <th>4</th>\n",
       "      <td>0</td>\n",
       "      <td>3</td>\n",
       "      <td>male</td>\n",
       "      <td>35.0</td>\n",
       "      <td>0</td>\n",
       "      <td>0</td>\n",
       "      <td>8.0500</td>\n",
       "      <td>S</td>\n",
       "      <td>Third</td>\n",
       "      <td>man</td>\n",
       "      <td>True</td>\n",
       "      <td>NaN</td>\n",
       "      <td>Southampton</td>\n",
       "      <td>no</td>\n",
       "      <td>True</td>\n",
       "    </tr>\n",
       "  </tbody>\n",
       "</table>\n",
       "</div>"
      ],
      "text/plain": [
       "   survived  pclass     sex   age  sibsp  parch     fare embarked  class  \\\n",
       "0         0       3    male  22.0      1      0   7.2500        S  Third   \n",
       "1         1       1  female  38.0      1      0  71.2833        C  First   \n",
       "2         1       3  female  26.0      0      0   7.9250        S  Third   \n",
       "3         1       1  female  35.0      1      0  53.1000        S  First   \n",
       "4         0       3    male  35.0      0      0   8.0500        S  Third   \n",
       "\n",
       "     who  adult_male deck  embark_town alive  alone  \n",
       "0    man        True  NaN  Southampton    no  False  \n",
       "1  woman       False    C    Cherbourg   yes  False  \n",
       "2  woman       False  NaN  Southampton   yes   True  \n",
       "3  woman       False    C  Southampton   yes  False  \n",
       "4    man        True  NaN  Southampton    no   True  "
      ]
     },
     "execution_count": 9,
     "metadata": {},
     "output_type": "execute_result"
    }
   ],
   "source": [
    "import pandas as pd\n",
    "import numpy as np\n",
    "import matplotlib.pyplot as plt\n",
    "import seaborn as sn\n",
    "\n",
    "df = sn.load_dataset('titanic')\n",
    "df.head()"
   ]
  },
  {
   "cell_type": "code",
   "execution_count": null,
   "id": "80f18bf3-ef92-44d4-84d1-dd01aa371f2b",
   "metadata": {
    "tags": []
   },
   "outputs": [],
   "source": [
    "Dicionario = pd.DataFrame ([\n",
    "    {\"Variável\": \"Survived\",\n",
    "     \"Descrição\": \"Se a pessoa sobreviveu ou não ao acidente\",\n",
    "     \"Tipo\": \"Qualitativa\",\n",
    "     \"subtipo\": \"Ordininária\"},\n",
    "    {\"Variável\": \"Pclass\",\n",
    "     \"Descrição\": \"Classe em que o passageiro estava viajando\",\n",
    "     \"Tipo\": \"Quantitativa\",\n",
    "     \"subtipo\": \"Ordinal\"\n",
    "                            },\n",
    "    {\"Variável\": \"Sex\",\n",
    "     \"Descrição\": \"Sexo dos Tripulantes\",\n",
    "     \"Tipo\": \"Qualitativa\",\n",
    "     \"Subtipo\": \"Nominal\"\n",
    "                            },\n",
    "    {\"Variável\": \"Age\",\n",
    "     \"Descrição\": \"Idade das pesssoas\",\n",
    "     \"Tipo\": \"Quantitativa\",\n",
    "     \"subtipo\": \"Discreta\" #Se a idade fosse mais precisa (25 anos e 6 meses, por exemplo) seria contínua\n",
    "                            },\n",
    "    { \"Variável\": \"Sibsp\",\n",
    "     \"Descrição\": \"Se a pessoa estava ou não acompanhada na viagem\",\n",
    "     \"Tipo\": \"Quantitativa\",\n",
    "     \"Subtipo\": \"Discreta\"\n",
    "                            },\n",
    "    { \"Variável\": \"Parch\",\n",
    "     \"Descrição\": \"Quantidade de pais e filhos que o passageiro estava levando\",\n",
    "     \"Tipo\": \"Quantitativa\",\n",
    "     \"Subtipo\": \"Discreta\",\n",
    "                            },\n",
    "    { \"Variável\": \"Fare\",\n",
    "     \"Descrição\": \"Valor da passagem\",\n",
    "     \"Tipo\": \"Quantitativa\",\n",
    "     \"Subtipo\": \"Contínua\"\n",
    "                            },\n",
    "    { \"Variável\": \"Embarked\",\n",
    "     \"Descrição\": \"Porto em que a pessoa embarcou\",\n",
    "     \"Tipo\": \"Qualitativa\",\n",
    "     \"Subtipo\": \"Nominal\"\n",
    "                            },\n",
    "    { \"Variável\": \"Class\",\n",
    "    \"Descrição\": \"Classe em que o passageiro estava viajando\",\n",
    "     \"Tipo\": \"Quantitativa\",\n",
    "     \"subtipo\": \"Ordinal\"\n",
    "                             },\n",
    "    { \"Variável\": \"Who\",\n",
    "     \"Descrição\": \"Sexo dos passegeiros\",\n",
    "     \"Tipo\": \"Qualitativa\",\n",
    "     \"Subtipo\": \"Nominal\"\n",
    "                            },\n",
    "    { \"Variável\": \"Adult_male\",\n",
    "     \"Descrição\": \"Se o passageiro era ou não adulto\",\n",
    "     \"Tipo\": \"Qualitativo\",\n",
    "     \"Subtipo\": \"Nominal\"\n",
    "                            },\n",
    "    { \"Variável\": \"Deck\",\n",
    "     \"Descrição\": \"Em qual deck a pessoa estava\",\n",
    "     \"Tipo\": \"Qualitativa\",\n",
    "     \"Subtipo\": \"Nominal\"\n",
    "                            },\n",
    "    { \"Variável\": \"Embarked_Town\",\n",
    "     \"Descrição\": \"Cidade onde a pessoa embarcou\",\n",
    "     \"Tipo\": \"Qualitativa\",\n",
    "     \"Subtipo\":\"Nominal\"\n",
    "                            },\n",
    "    { \"Variável\": \"Alive\",\n",
    "     \"Descrição\": \"Se a pessoa sobreviveu ou não\",\n",
    "     \"Tipo\": \"Qualitatitva\",\n",
    "     \"Subtipo\": \"Nominal\"\n",
    "                            },\n",
    "     { \"Variável\": \"Alone\",\n",
    "      \"Descrição\": \"Se a pessoa estava sozinha ou acompanhada\",\n",
    "      \"Tipo\": \"Qualitativa\",\n",
    "      \"Subtipo\": \"Nominal\"\n",
    "                             }\n",
    "     \n",
    "])\n",
    "Dicionario"
   ]
  },
  {
   "cell_type": "markdown",
   "id": "606fe627-efff-47dd-8f4d-828ef06f5af4",
   "metadata": {},
   "source": [
    "Percebamos que algumas variáveis querem dizer a mesma coisa, por exemplo: Survive e alive, ambas falam se o passageiro sobreviveu ou não. Pclass e class, ambas falam a classe em que o passageiro viajava.Embarked e Embarked_town, ambas falam a cidade em que o passageiro embarcou. E, por último,Sibsp e Alone ambas falam se o passageiro estava acompanhado ou sozinho"
   ]
  },
  {
   "cell_type": "code",
   "execution_count": 10,
   "id": "54a704f1-fd81-4dd5-83ba-c9638eb0f298",
   "metadata": {
    "tags": []
   },
   "outputs": [
    {
     "name": "stdout",
     "output_type": "stream",
     "text": [
      "Sobreviveram: 342\n",
      "Morreram: 549\n"
     ]
    },
    {
     "data": {
      "image/png": "[encoded data removed]",
      "text/plain": [
       "<Figure size 640x480 with 1 Axes>"
      ]
     },
     "metadata": {},
     "output_type": "display_data"
    }
   ],
   "source": [
    "sobreviveram = (df['alive'] == 'yes').sum() #método mais fácil para somar coisa específicas em um dataframe \n",
    "morreram = (df['alive'] == 'no').sum()\n",
    "\n",
    "\n",
    "\n",
    "print(\"Sobreviveram:\", sobreviveram)\n",
    "print(\"Morreram:\", morreram)\n",
    "\n",
    "\n",
    "plt.bar(['Sobreviveram', 'Morreram'], [sobreviveram, morreram])\n",
    "plt.xlabel('Status')\n",
    "plt.ylabel('Frequência')\n",
    "plt.title('Distribuição de Sobreviventes e Óbitos')\n",
    "plt.show()\n",
    "\n"
   ]
  },
  {
   "cell_type": "code",
   "execution_count": 14,
   "id": "1584c9d4-a0b9-4376-9072-1b0c1a065e12",
   "metadata": {
    "tags": []
   },
   "outputs": [
    {
     "name": "stdout",
     "output_type": "stream",
     "text": [
      "Quantidade de homens que sobreviveram: 109\n",
      "Quantidade de mulheres que sobreviveram 233\n",
      "Preço médio da passagem 32.204\n"
     ]
    }
   ],
   "source": [
    "mans_survived = ((df['survived'] == 1) & (df['sex'] == 'male')).sum()\n",
    "woman_survived = ((df['survived']== 1) & (df['sex'] == 'female')).sum()\n",
    "ticket_medio = (df['fare']).mean()\n",
    "print(f\"Quantidade de homens que sobreviveram: {mans_survived}\")\n",
    "print(f\"Quantidade de mulheres que sobreviveram {woman_survived}\")\n",
    "print(f\"Preço médio da passagem {ticket_medio:.3f}\")"
   ]
  },
  {
   "cell_type": "code",
   "execution_count": 12,
   "id": "32b2c66a-a54a-44dd-855c-4de16cdbbd44",
   "metadata": {
    "tags": []
   },
   "outputs": [
    {
     "data": {
      "image/png": "[encoded data removed]",
      "text/plain": [
       "<Figure size 1000x600 with 1 Axes>"
      ]
     },
     "metadata": {},
     "output_type": "display_data"
    },
    {
     "name": "stdout",
     "output_type": "stream",
     "text": [
      "29.69911764705882\n"
     ]
    }
   ],
   "source": [
    "plt.figure(figsize=(10, 6))\n",
    "plt.hist(df['age'], bins=10, color='blue', alpha=0.7, edgecolor='black')\n",
    "plt.title('Histograma da Idade')\n",
    "plt.xlabel('Idade')\n",
    "plt.ylabel('Frequência')\n",
    "plt.grid(axis='y', alpha=0.75)\n",
    "plt.show()\n",
    "print((df['age']).mean())\n"
   ]
  },
  {
   "cell_type": "code",
   "execution_count": 15,
   "id": "06d3e32e-809e-4582-8351-6a41688e6a12",
   "metadata": {
    "tags": []
   },
   "outputs": [
    {
     "data": {
      "image/png": "[encoded data removed]",
      "text/plain": [
       "<Figure size 1000x600 with 1 Axes>"
      ]
     },
     "metadata": {},
     "output_type": "display_data"
    }
   ],
   "source": [
    "df_false_survived = df[df['survived'] == 0]\n",
    "\n",
    "\n",
    "plt.figure(figsize=(10, 6))\n",
    "plt.hist(df_false_survived['age'], bins=10, color='red', alpha=0.7, edgecolor='black')\n",
    "plt.title('Histograma da Idade (Somente Não Sobreviventes)')\n",
    "plt.xlabel('Idade')\n",
    "plt.ylabel('Frequência')\n",
    "plt.grid(axis='y', alpha=0.75)\n",
    "plt.show()"
   ]
  },
  {
   "cell_type": "markdown",
   "id": "c74aef5c-ce22-4f17-8469-36574a0e8730",
   "metadata": {},
   "source": [
    "# Relação entre sobreviventes e mortos de passageiros que viajaram na primeira e terceira classe\n"
   ]
  },
  {
   "cell_type": "markdown",
   "id": "58e20b99-7c7f-4d73-baf3-e8c9b0f58c7b",
   "metadata": {},
   "source": [
    "Podemos perceber que a maioria dos passageiros acabaram falecendo, mas isso é um dado muito superficial, podemos explorar, por exemplo, a relação entre os sobreviventes e os passsageiros que viajaram na primeira classe:  "
   ]
  },
  {
   "cell_type": "markdown",
   "id": "b9b75f79-996a-4112-b70c-5e6db03c1a54",
   "metadata": {},
   "source": [
    "O fato do passageiro estar na primeira classe aumentava a possibilidade dele sobreviver?\n"
   ]
  },
  {
   "cell_type": "code",
   "execution_count": 17,
   "id": "3e2ec435-62db-47f2-bd54-40b8a15ced10",
   "metadata": {
    "tags": []
   },
   "outputs": [
    {
     "name": "stdout",
     "output_type": "stream",
     "text": [
      "A correlação entre sobrevivência e estar na primeira classe é: 0.28590376778374327\n",
      "Quantidade de pessoas que sobreviveram e que estavam na primeira classe 136\n",
      "E isso corresponde a 39.77% dos sobreviventes totais\n"
     ]
    }
   ],
   "source": [
    "Survival = df['survived']\n",
    "first_class = df['pclass'] == 1\n",
    "Survival_first_class  = (Survival & first_class).sum()\n",
    "percentage_survival = Survival_first_class/ sobreviveram * 100\n",
    "\n",
    "correlation = Survival.corr(first_class.astype(int)) \n",
    "\n",
    "print(f\"A correlação entre sobrevivência e estar na primeira classe é: {correlation}\")\n",
    "print(f\"Quantidade de pessoas que sobreviveram e que estavam na primeira classe {Survival_first_class}\")\n",
    "print(f\"E isso corresponde a {percentage_survival:.2f}% dos sobreviventes totais\")\n"
   ]
  },
  {
   "cell_type": "code",
   "execution_count": null,
   "id": "827a3982-24c1-4618-949e-56dfe320a333",
   "metadata": {},
   "outputs": [],
   "source": []
  }
 ],
 "metadata": {
  "kernelspec": {
   "display_name": "Python 3 (ipykernel)",
   "language": "python",
   "name": "python3"
  },
  "language_info": {
   "codemirror_mode": {
    "name": "ipython",
    "version": 3
   },
   "file_extension": ".py",
   "mimetype": "text/x-python",
   "name": "python",
   "nbconvert_exporter": "python",
   "pygments_lexer": "ipython3",
   "version": "3.10.14"
  }
 },
 "nbformat": 4,
 "nbformat_minor": 5
}
